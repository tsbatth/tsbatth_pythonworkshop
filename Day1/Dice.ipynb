{
 "cells": [
  {
   "cell_type": "code",
   "execution_count": 56,
   "metadata": {},
   "outputs": [
    {
     "data": {
      "text/plain": [
       "1"
      ]
     },
     "execution_count": 56,
     "metadata": {},
     "output_type": "execute_result"
    }
   ],
   "source": [
    "import numpy as np\n",
    "red = np.array([3,3,3,6,6,6])\n",
    "blue = np.array([2,2,2,5,5,5])\n",
    "green = np.array([1,4,4,4,4,4])\n",
    "\n",
    "redx = np.random.choice(red)\n",
    "bluex = np.random.choice(blue)\n",
    "greenx = np.random.choice(green)\n"
   ]
  },
  {
   "cell_type": "markdown",
   "metadata": {},
   "source": [
    "Pseudo code\n",
    "For loop x1000 testing redx vs bluex\n",
    " if np.random.choice(red) > np.random.choice(blue)\n",
    "     r = r + 1\n",
    "wred = r/1000\n",
    "wblue = 1 - wred\n",
    "print('Probability of red winning against blue is' wred)\n",
    "print('Probability of blue winning against red is' wblue)\n",
    "\n"
   ]
  },
  {
   "cell_type": "markdown",
   "metadata": {},
   "source": [
    "Pseudo code\n",
    "For loop x1000 testing redx vs greenx\n",
    " if np.random.choice(red) > np.random.choice(green)\n",
    "     r = r + 1\n",
    "wred = r/1000\n",
    "wgreen = 1 - wred\n",
    "print('Probability of red winning against green is' wred)\n",
    "print('Probability of green winning against red is' wgreen)\n"
   ]
  },
  {
   "cell_type": "markdown",
   "metadata": {},
   "source": [
    "Pseudo code\n",
    "For loop x1000 testing bluex vs greenx\n",
    " if np.random.choice(blue) > np.random.choice(green)\n",
    "     r = r + 1\n",
    "wblue = r/1000\n",
    "wgreen = 1 - wblue\n",
    "print('Probability of blue winning against green is' wblue)\n",
    "print('Probability of green winning against blue is' wgreen)\n"
   ]
  },
  {
   "cell_type": "code",
   "execution_count": null,
   "metadata": {},
   "outputs": [],
   "source": [
    "\n",
    "\n",
    "redx = np.random.choice(red)\n",
    "bluex = np.random.choice(blue)\n",
    "greenx = np.random.choice(green)\n",
    "\n",
    "r=0\n",
    "if redx > bluex:\n",
    "    r = r + 1"
   ]
  }
 ],
 "metadata": {
  "kernelspec": {
   "display_name": "Python 3",
   "language": "python",
   "name": "python3"
  },
  "language_info": {
   "codemirror_mode": {
    "name": "ipython",
    "version": 3
   },
   "file_extension": ".py",
   "mimetype": "text/x-python",
   "name": "python",
   "nbconvert_exporter": "python",
   "pygments_lexer": "ipython3",
   "version": "3.7.0"
  }
 },
 "nbformat": 4,
 "nbformat_minor": 2
}
