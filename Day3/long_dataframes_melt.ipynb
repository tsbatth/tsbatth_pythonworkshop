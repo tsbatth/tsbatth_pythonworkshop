{
 "cells": [
  {
   "cell_type": "code",
   "execution_count": 1,
   "metadata": {},
   "outputs": [],
   "source": [
    "import pandas as pd"
   ]
  },
  {
   "cell_type": "code",
   "execution_count": 2,
   "metadata": {},
   "outputs": [
    {
     "name": "stdout",
     "output_type": "stream",
     "text": [
      "/home/nickdg/Desktop/cph_pythonworkshop2018/Day2\n"
     ]
    }
   ],
   "source": [
    "!pwd"
   ]
  },
  {
   "cell_type": "code",
   "execution_count": null,
   "metadata": {},
   "outputs": [],
   "source": []
  },
  {
   "cell_type": "code",
   "execution_count": 7,
   "metadata": {},
   "outputs": [
    {
     "data": {
      "text/html": [
       "<div>\n",
       "<style scoped>\n",
       "    .dataframe tbody tr th:only-of-type {\n",
       "        vertical-align: middle;\n",
       "    }\n",
       "\n",
       "    .dataframe tbody tr th {\n",
       "        vertical-align: top;\n",
       "    }\n",
       "\n",
       "    .dataframe thead tr th {\n",
       "        text-align: left;\n",
       "    }\n",
       "\n",
       "    .dataframe thead tr:last-of-type th {\n",
       "        text-align: right;\n",
       "    }\n",
       "</style>\n",
       "<table border=\"1\" class=\"dataframe\">\n",
       "  <thead>\n",
       "    <tr>\n",
       "      <th>Species</th>\n",
       "      <th colspan=\"3\" halign=\"left\">Human</th>\n",
       "      <th colspan=\"3\" halign=\"left\">Yeast</th>\n",
       "    </tr>\n",
       "    <tr>\n",
       "      <th>Rep</th>\n",
       "      <th>1</th>\n",
       "      <th>2</th>\n",
       "      <th>3</th>\n",
       "      <th>1</th>\n",
       "      <th>2</th>\n",
       "      <th>3</th>\n",
       "    </tr>\n",
       "    <tr>\n",
       "      <th>ProteinID</th>\n",
       "      <th></th>\n",
       "      <th></th>\n",
       "      <th></th>\n",
       "      <th></th>\n",
       "      <th></th>\n",
       "      <th></th>\n",
       "    </tr>\n",
       "  </thead>\n",
       "  <tbody>\n",
       "    <tr>\n",
       "      <th>HDXWPLEMPC</th>\n",
       "      <td>2966</td>\n",
       "      <td>3059</td>\n",
       "      <td>3059</td>\n",
       "      <td>2998</td>\n",
       "      <td>3009</td>\n",
       "      <td>3083</td>\n",
       "    </tr>\n",
       "    <tr>\n",
       "      <th>6SUN1O12BY</th>\n",
       "      <td>3062</td>\n",
       "      <td>3003</td>\n",
       "      <td>3037</td>\n",
       "      <td>3002</td>\n",
       "      <td>3029</td>\n",
       "      <td>3054</td>\n",
       "    </tr>\n",
       "    <tr>\n",
       "      <th>6RDX2LK7TT</th>\n",
       "      <td>2936</td>\n",
       "      <td>2975</td>\n",
       "      <td>3043</td>\n",
       "      <td>2985</td>\n",
       "      <td>2955</td>\n",
       "      <td>2928</td>\n",
       "    </tr>\n",
       "    <tr>\n",
       "      <th>JVA4QMGSKP</th>\n",
       "      <td>3028</td>\n",
       "      <td>3026</td>\n",
       "      <td>3074</td>\n",
       "      <td>3098</td>\n",
       "      <td>3026</td>\n",
       "      <td>2994</td>\n",
       "    </tr>\n",
       "    <tr>\n",
       "      <th>SSAS9WGCIZ</th>\n",
       "      <td>3007</td>\n",
       "      <td>2909</td>\n",
       "      <td>2983</td>\n",
       "      <td>3064</td>\n",
       "      <td>3092</td>\n",
       "      <td>2921</td>\n",
       "    </tr>\n",
       "  </tbody>\n",
       "</table>\n",
       "</div>"
      ],
      "text/plain": [
       "Species    Human             Yeast            \n",
       "Rep            1     2     3     1     2     3\n",
       "ProteinID                                     \n",
       "HDXWPLEMPC  2966  3059  3059  2998  3009  3083\n",
       "6SUN1O12BY  3062  3003  3037  3002  3029  3054\n",
       "6RDX2LK7TT  2936  2975  3043  2985  2955  2928\n",
       "JVA4QMGSKP  3028  3026  3074  3098  3026  2994\n",
       "SSAS9WGCIZ  3007  2909  2983  3064  3092  2921"
      ]
     },
     "execution_count": 7,
     "metadata": {},
     "output_type": "execute_result"
    }
   ],
   "source": [
    "df = pd.read_excel('proteins.xls', header=[0, 1], )\n",
    "df.head()"
   ]
  },
  {
   "cell_type": "code",
   "execution_count": 8,
   "metadata": {},
   "outputs": [
    {
     "data": {
      "text/plain": [
       "MultiIndex(levels=[['Human', 'Yeast'], ['1', '2', '3']],\n",
       "           labels=[[0, 0, 0, 1, 1, 1], [0, 1, 2, 0, 1, 2]],\n",
       "           names=['Species', 'Rep'])"
      ]
     },
     "execution_count": 8,
     "metadata": {},
     "output_type": "execute_result"
    }
   ],
   "source": [
    "df.columns"
   ]
  },
  {
   "cell_type": "code",
   "execution_count": 15,
   "metadata": {},
   "outputs": [],
   "source": [
    "df.columns = pd.MultiIndex.from_product([['a', 'b'], ['1', '2', '3']], names=['G', 'H'])"
   ]
  },
  {
   "cell_type": "code",
   "execution_count": 16,
   "metadata": {},
   "outputs": [
    {
     "data": {
      "text/html": [
       "<div>\n",
       "<style scoped>\n",
       "    .dataframe tbody tr th:only-of-type {\n",
       "        vertical-align: middle;\n",
       "    }\n",
       "\n",
       "    .dataframe tbody tr th {\n",
       "        vertical-align: top;\n",
       "    }\n",
       "\n",
       "    .dataframe thead tr th {\n",
       "        text-align: left;\n",
       "    }\n",
       "\n",
       "    .dataframe thead tr:last-of-type th {\n",
       "        text-align: right;\n",
       "    }\n",
       "</style>\n",
       "<table border=\"1\" class=\"dataframe\">\n",
       "  <thead>\n",
       "    <tr>\n",
       "      <th>G</th>\n",
       "      <th colspan=\"3\" halign=\"left\">a</th>\n",
       "      <th colspan=\"3\" halign=\"left\">b</th>\n",
       "    </tr>\n",
       "    <tr>\n",
       "      <th>H</th>\n",
       "      <th>1</th>\n",
       "      <th>2</th>\n",
       "      <th>3</th>\n",
       "      <th>1</th>\n",
       "      <th>2</th>\n",
       "      <th>3</th>\n",
       "    </tr>\n",
       "    <tr>\n",
       "      <th>ProteinID</th>\n",
       "      <th></th>\n",
       "      <th></th>\n",
       "      <th></th>\n",
       "      <th></th>\n",
       "      <th></th>\n",
       "      <th></th>\n",
       "    </tr>\n",
       "  </thead>\n",
       "  <tbody>\n",
       "    <tr>\n",
       "      <th>HDXWPLEMPC</th>\n",
       "      <td>2966</td>\n",
       "      <td>3059</td>\n",
       "      <td>3059</td>\n",
       "      <td>2998</td>\n",
       "      <td>3009</td>\n",
       "      <td>3083</td>\n",
       "    </tr>\n",
       "    <tr>\n",
       "      <th>6SUN1O12BY</th>\n",
       "      <td>3062</td>\n",
       "      <td>3003</td>\n",
       "      <td>3037</td>\n",
       "      <td>3002</td>\n",
       "      <td>3029</td>\n",
       "      <td>3054</td>\n",
       "    </tr>\n",
       "    <tr>\n",
       "      <th>6RDX2LK7TT</th>\n",
       "      <td>2936</td>\n",
       "      <td>2975</td>\n",
       "      <td>3043</td>\n",
       "      <td>2985</td>\n",
       "      <td>2955</td>\n",
       "      <td>2928</td>\n",
       "    </tr>\n",
       "    <tr>\n",
       "      <th>JVA4QMGSKP</th>\n",
       "      <td>3028</td>\n",
       "      <td>3026</td>\n",
       "      <td>3074</td>\n",
       "      <td>3098</td>\n",
       "      <td>3026</td>\n",
       "      <td>2994</td>\n",
       "    </tr>\n",
       "    <tr>\n",
       "      <th>SSAS9WGCIZ</th>\n",
       "      <td>3007</td>\n",
       "      <td>2909</td>\n",
       "      <td>2983</td>\n",
       "      <td>3064</td>\n",
       "      <td>3092</td>\n",
       "      <td>2921</td>\n",
       "    </tr>\n",
       "  </tbody>\n",
       "</table>\n",
       "</div>"
      ],
      "text/plain": [
       "G              a                 b            \n",
       "H              1     2     3     1     2     3\n",
       "ProteinID                                     \n",
       "HDXWPLEMPC  2966  3059  3059  2998  3009  3083\n",
       "6SUN1O12BY  3062  3003  3037  3002  3029  3054\n",
       "6RDX2LK7TT  2936  2975  3043  2985  2955  2928\n",
       "JVA4QMGSKP  3028  3026  3074  3098  3026  2994\n",
       "SSAS9WGCIZ  3007  2909  2983  3064  3092  2921"
      ]
     },
     "execution_count": 16,
     "metadata": {},
     "output_type": "execute_result"
    }
   ],
   "source": [
    "df.head()"
   ]
  },
  {
   "cell_type": "code",
   "execution_count": 17,
   "metadata": {},
   "outputs": [
    {
     "data": {
      "text/html": [
       "<div>\n",
       "<style scoped>\n",
       "    .dataframe tbody tr th:only-of-type {\n",
       "        vertical-align: middle;\n",
       "    }\n",
       "\n",
       "    .dataframe tbody tr th {\n",
       "        vertical-align: top;\n",
       "    }\n",
       "\n",
       "    .dataframe thead tr th {\n",
       "        text-align: left;\n",
       "    }\n",
       "\n",
       "    .dataframe thead tr:last-of-type th {\n",
       "        text-align: right;\n",
       "    }\n",
       "</style>\n",
       "<table border=\"1\" class=\"dataframe\">\n",
       "  <thead>\n",
       "    <tr>\n",
       "      <th>Species</th>\n",
       "      <th colspan=\"3\" halign=\"left\">Human</th>\n",
       "      <th colspan=\"3\" halign=\"left\">Yeast</th>\n",
       "    </tr>\n",
       "    <tr>\n",
       "      <th>Rep</th>\n",
       "      <th>1</th>\n",
       "      <th>2</th>\n",
       "      <th>3</th>\n",
       "      <th>1</th>\n",
       "      <th>2</th>\n",
       "      <th>3</th>\n",
       "    </tr>\n",
       "    <tr>\n",
       "      <th>ProteinID</th>\n",
       "      <th></th>\n",
       "      <th></th>\n",
       "      <th></th>\n",
       "      <th></th>\n",
       "      <th></th>\n",
       "      <th></th>\n",
       "    </tr>\n",
       "  </thead>\n",
       "  <tbody>\n",
       "    <tr>\n",
       "      <th>HDXWPLEMPC</th>\n",
       "      <td>2966</td>\n",
       "      <td>3059</td>\n",
       "      <td>3059</td>\n",
       "      <td>2998</td>\n",
       "      <td>3009</td>\n",
       "      <td>3083</td>\n",
       "    </tr>\n",
       "    <tr>\n",
       "      <th>6SUN1O12BY</th>\n",
       "      <td>3062</td>\n",
       "      <td>3003</td>\n",
       "      <td>3037</td>\n",
       "      <td>3002</td>\n",
       "      <td>3029</td>\n",
       "      <td>3054</td>\n",
       "    </tr>\n",
       "    <tr>\n",
       "      <th>6RDX2LK7TT</th>\n",
       "      <td>2936</td>\n",
       "      <td>2975</td>\n",
       "      <td>3043</td>\n",
       "      <td>2985</td>\n",
       "      <td>2955</td>\n",
       "      <td>2928</td>\n",
       "    </tr>\n",
       "    <tr>\n",
       "      <th>JVA4QMGSKP</th>\n",
       "      <td>3028</td>\n",
       "      <td>3026</td>\n",
       "      <td>3074</td>\n",
       "      <td>3098</td>\n",
       "      <td>3026</td>\n",
       "      <td>2994</td>\n",
       "    </tr>\n",
       "    <tr>\n",
       "      <th>SSAS9WGCIZ</th>\n",
       "      <td>3007</td>\n",
       "      <td>2909</td>\n",
       "      <td>2983</td>\n",
       "      <td>3064</td>\n",
       "      <td>3092</td>\n",
       "      <td>2921</td>\n",
       "    </tr>\n",
       "  </tbody>\n",
       "</table>\n",
       "</div>"
      ],
      "text/plain": [
       "Species    Human             Yeast            \n",
       "Rep            1     2     3     1     2     3\n",
       "ProteinID                                     \n",
       "HDXWPLEMPC  2966  3059  3059  2998  3009  3083\n",
       "6SUN1O12BY  3062  3003  3037  3002  3029  3054\n",
       "6RDX2LK7TT  2936  2975  3043  2985  2955  2928\n",
       "JVA4QMGSKP  3028  3026  3074  3098  3026  2994\n",
       "SSAS9WGCIZ  3007  2909  2983  3064  3092  2921"
      ]
     },
     "execution_count": 17,
     "metadata": {},
     "output_type": "execute_result"
    }
   ],
   "source": [
    "df = pd.read_excel('proteins.xls', header=[0, 1], )\n",
    "df.head()"
   ]
  },
  {
   "cell_type": "code",
   "execution_count": 19,
   "metadata": {},
   "outputs": [
    {
     "data": {
      "text/plain": [
       "Species  Rep\n",
       "Human    1      3028\n",
       "         2      3026\n",
       "         3      3074\n",
       "Yeast    1      3098\n",
       "         2      3026\n",
       "         3      2994\n",
       "Name: JVA4QMGSKP, dtype: int64"
      ]
     },
     "execution_count": 19,
     "metadata": {},
     "output_type": "execute_result"
    }
   ],
   "source": [
    "df.loc['JVA4QMGSKP']"
   ]
  },
  {
   "cell_type": "code",
   "execution_count": 23,
   "metadata": {},
   "outputs": [
    {
     "data": {
      "text/plain": [
       "Species  Rep\n",
       "Human    1      2887\n",
       "         2      2866\n",
       "         3      3014\n",
       "Yeast    1      2902\n",
       "         2      2919\n",
       "         3      3056\n",
       "Name: 3MAT63UHQ8, dtype: int64"
      ]
     },
     "execution_count": 23,
     "metadata": {},
     "output_type": "execute_result"
    }
   ],
   "source": [
    "df.iloc[7]"
   ]
  },
  {
   "cell_type": "code",
   "execution_count": 32,
   "metadata": {},
   "outputs": [
    {
     "data": {
      "text/html": [
       "<div>\n",
       "<style scoped>\n",
       "    .dataframe tbody tr th:only-of-type {\n",
       "        vertical-align: middle;\n",
       "    }\n",
       "\n",
       "    .dataframe tbody tr th {\n",
       "        vertical-align: top;\n",
       "    }\n",
       "\n",
       "    .dataframe thead th {\n",
       "        text-align: right;\n",
       "    }\n",
       "</style>\n",
       "<table border=\"1\" class=\"dataframe\">\n",
       "  <thead>\n",
       "    <tr style=\"text-align: right;\">\n",
       "      <th>Rep</th>\n",
       "      <th>1</th>\n",
       "      <th>2</th>\n",
       "      <th>3</th>\n",
       "    </tr>\n",
       "    <tr>\n",
       "      <th>ProteinID</th>\n",
       "      <th></th>\n",
       "      <th></th>\n",
       "      <th></th>\n",
       "    </tr>\n",
       "  </thead>\n",
       "  <tbody>\n",
       "    <tr>\n",
       "      <th>HDXWPLEMPC</th>\n",
       "      <td>2966</td>\n",
       "      <td>3059</td>\n",
       "      <td>3059</td>\n",
       "    </tr>\n",
       "    <tr>\n",
       "      <th>6SUN1O12BY</th>\n",
       "      <td>3062</td>\n",
       "      <td>3003</td>\n",
       "      <td>3037</td>\n",
       "    </tr>\n",
       "    <tr>\n",
       "      <th>6RDX2LK7TT</th>\n",
       "      <td>2936</td>\n",
       "      <td>2975</td>\n",
       "      <td>3043</td>\n",
       "    </tr>\n",
       "    <tr>\n",
       "      <th>JVA4QMGSKP</th>\n",
       "      <td>3028</td>\n",
       "      <td>3026</td>\n",
       "      <td>3074</td>\n",
       "    </tr>\n",
       "    <tr>\n",
       "      <th>SSAS9WGCIZ</th>\n",
       "      <td>3007</td>\n",
       "      <td>2909</td>\n",
       "      <td>2983</td>\n",
       "    </tr>\n",
       "  </tbody>\n",
       "</table>\n",
       "</div>"
      ],
      "text/plain": [
       "Rep            1     2     3\n",
       "ProteinID                   \n",
       "HDXWPLEMPC  2966  3059  3059\n",
       "6SUN1O12BY  3062  3003  3037\n",
       "6RDX2LK7TT  2936  2975  3043\n",
       "JVA4QMGSKP  3028  3026  3074\n",
       "SSAS9WGCIZ  3007  2909  2983"
      ]
     },
     "execution_count": 32,
     "metadata": {},
     "output_type": "execute_result"
    }
   ],
   "source": [
    "df['Human'].head()"
   ]
  },
  {
   "cell_type": "markdown",
   "metadata": {},
   "source": [
    "## Ttests"
   ]
  },
  {
   "cell_type": "code",
   "execution_count": 34,
   "metadata": {},
   "outputs": [],
   "source": [
    "from scipy import stats"
   ]
  },
  {
   "cell_type": "code",
   "execution_count": 41,
   "metadata": {},
   "outputs": [
    {
     "data": {
      "text/plain": [
       "Ttest_indResult(statistic=array([-0.04889211,  0.24903246,  0.81132075, ..., -0.69479452,\n",
       "        1.08306512,  0.29242266]), pvalue=array([0.96334917, 0.81560018, 0.46269716, ..., 0.52543063, 0.3397024 ,\n",
       "       0.78450435]))"
      ]
     },
     "execution_count": 41,
     "metadata": {},
     "output_type": "execute_result"
    }
   ],
   "source": [
    "results = stats.ttest_ind(df['Human'], df['Yeast'], axis=1)\n",
    "results"
   ]
  },
  {
   "cell_type": "code",
   "execution_count": 44,
   "metadata": {},
   "outputs": [
    {
     "data": {
      "text/plain": [
       "3000"
      ]
     },
     "execution_count": 44,
     "metadata": {},
     "output_type": "execute_result"
    }
   ],
   "source": [
    "len(df)"
   ]
  },
  {
   "cell_type": "code",
   "execution_count": 45,
   "metadata": {},
   "outputs": [],
   "source": [
    "assert len(results.statistic) == len(df), \"ttest was done wrong in direction\""
   ]
  },
  {
   "cell_type": "code",
   "execution_count": 50,
   "metadata": {},
   "outputs": [
    {
     "data": {
      "text/plain": [
       "Index(['X5AYSQSHAG', 'NEMOJ29JX3', 'S8WJ7MGER1', 'VVU0NG047S', '8N3BO2B5UD',\n",
       "       '0NL15HZAI9', 'MNNQVMQ8AD', '6UFD2U6HCR', 'DW6Q33H9HY', 'FRKX4BKU12',\n",
       "       ...\n",
       "       'VAJA65R6NS', 'WMPKZT5J6L', 'Y8ORCL5II3', 'E3O2GYDPNE', '94NR5NKACL',\n",
       "       'H2XCPGDSWG', 'WHG4GA0RED', 'NVALQ0NMZS', 'WOXJZ78HMF', 'Q6Z8FYB0UF'],\n",
       "      dtype='object', name='ProteinID', length=157)"
      ]
     },
     "execution_count": 50,
     "metadata": {},
     "output_type": "execute_result"
    }
   ],
   "source": [
    "df.index[results.pvalue < .05]"
   ]
  },
  {
   "cell_type": "code",
   "execution_count": 52,
   "metadata": {},
   "outputs": [
    {
     "data": {
      "text/html": [
       "<div>\n",
       "<style scoped>\n",
       "    .dataframe tbody tr th:only-of-type {\n",
       "        vertical-align: middle;\n",
       "    }\n",
       "\n",
       "    .dataframe tbody tr th {\n",
       "        vertical-align: top;\n",
       "    }\n",
       "\n",
       "    .dataframe thead th {\n",
       "        text-align: right;\n",
       "    }\n",
       "</style>\n",
       "<table border=\"1\" class=\"dataframe\">\n",
       "  <thead>\n",
       "    <tr style=\"text-align: right;\">\n",
       "      <th></th>\n",
       "      <th>ProteinID</th>\n",
       "      <th>T</th>\n",
       "      <th>pvalue</th>\n",
       "    </tr>\n",
       "  </thead>\n",
       "  <tbody>\n",
       "    <tr>\n",
       "      <th>0</th>\n",
       "      <td>HDXWPLEMPC</td>\n",
       "      <td>-0.048892</td>\n",
       "      <td>0.963349</td>\n",
       "    </tr>\n",
       "    <tr>\n",
       "      <th>1</th>\n",
       "      <td>6SUN1O12BY</td>\n",
       "      <td>0.249032</td>\n",
       "      <td>0.815600</td>\n",
       "    </tr>\n",
       "    <tr>\n",
       "      <th>2</th>\n",
       "      <td>6RDX2LK7TT</td>\n",
       "      <td>0.811321</td>\n",
       "      <td>0.462697</td>\n",
       "    </tr>\n",
       "    <tr>\n",
       "      <th>3</th>\n",
       "      <td>JVA4QMGSKP</td>\n",
       "      <td>0.096565</td>\n",
       "      <td>0.927716</td>\n",
       "    </tr>\n",
       "    <tr>\n",
       "      <th>4</th>\n",
       "      <td>SSAS9WGCIZ</td>\n",
       "      <td>-0.978894</td>\n",
       "      <td>0.383058</td>\n",
       "    </tr>\n",
       "  </tbody>\n",
       "</table>\n",
       "</div>"
      ],
      "text/plain": [
       "    ProteinID         T    pvalue\n",
       "0  HDXWPLEMPC -0.048892  0.963349\n",
       "1  6SUN1O12BY  0.249032  0.815600\n",
       "2  6RDX2LK7TT  0.811321  0.462697\n",
       "3  JVA4QMGSKP  0.096565  0.927716\n",
       "4  SSAS9WGCIZ -0.978894  0.383058"
      ]
     },
     "execution_count": 52,
     "metadata": {},
     "output_type": "execute_result"
    }
   ],
   "source": [
    "stats = pd.DataFrame()\n",
    "stats['ProteinID'] = df.index\n",
    "stats['T'] = results.statistic\n",
    "stats['pvalue'] = results.pvalue\n",
    "\n",
    "stats.head()"
   ]
  },
  {
   "cell_type": "code",
   "execution_count": 59,
   "metadata": {},
   "outputs": [
    {
     "name": "stderr",
     "output_type": "stream",
     "text": [
      "/home/nickdg/anaconda3/lib/python3.6/site-packages/pandas/core/reshape/merge.py:543: UserWarning: merging between different levels can give an unintended result (2 levels on the left, 1 on the right)\n",
      "  warnings.warn(msg, UserWarning)\n"
     ]
    },
    {
     "data": {
      "text/html": [
       "<div>\n",
       "<style scoped>\n",
       "    .dataframe tbody tr th:only-of-type {\n",
       "        vertical-align: middle;\n",
       "    }\n",
       "\n",
       "    .dataframe tbody tr th {\n",
       "        vertical-align: top;\n",
       "    }\n",
       "\n",
       "    .dataframe thead th {\n",
       "        text-align: right;\n",
       "    }\n",
       "</style>\n",
       "<table border=\"1\" class=\"dataframe\">\n",
       "  <thead>\n",
       "    <tr style=\"text-align: right;\">\n",
       "      <th></th>\n",
       "      <th>(Human, 1)</th>\n",
       "      <th>(Human, 2)</th>\n",
       "      <th>(Human, 3)</th>\n",
       "      <th>(Yeast, 1)</th>\n",
       "      <th>(Yeast, 2)</th>\n",
       "      <th>(Yeast, 3)</th>\n",
       "      <th>ProteinID</th>\n",
       "      <th>T</th>\n",
       "      <th>pvalue</th>\n",
       "    </tr>\n",
       "  </thead>\n",
       "  <tbody>\n",
       "    <tr>\n",
       "      <th>28</th>\n",
       "      <td>2920</td>\n",
       "      <td>2964</td>\n",
       "      <td>2970</td>\n",
       "      <td>3040</td>\n",
       "      <td>3081</td>\n",
       "      <td>3004</td>\n",
       "      <td>X5AYSQSHAG</td>\n",
       "      <td>-3.313513</td>\n",
       "      <td>0.029557</td>\n",
       "    </tr>\n",
       "    <tr>\n",
       "      <th>38</th>\n",
       "      <td>2997</td>\n",
       "      <td>2966</td>\n",
       "      <td>3038</td>\n",
       "      <td>2879</td>\n",
       "      <td>2877</td>\n",
       "      <td>2945</td>\n",
       "      <td>NEMOJ29JX3</td>\n",
       "      <td>3.272295</td>\n",
       "      <td>0.030723</td>\n",
       "    </tr>\n",
       "    <tr>\n",
       "      <th>52</th>\n",
       "      <td>2962</td>\n",
       "      <td>2961</td>\n",
       "      <td>2919</td>\n",
       "      <td>3069</td>\n",
       "      <td>3074</td>\n",
       "      <td>2999</td>\n",
       "      <td>S8WJ7MGER1</td>\n",
       "      <td>-3.564867</td>\n",
       "      <td>0.023483</td>\n",
       "    </tr>\n",
       "    <tr>\n",
       "      <th>120</th>\n",
       "      <td>2967</td>\n",
       "      <td>2952</td>\n",
       "      <td>3017</td>\n",
       "      <td>3034</td>\n",
       "      <td>3032</td>\n",
       "      <td>3058</td>\n",
       "      <td>VVU0NG047S</td>\n",
       "      <td>-2.934993</td>\n",
       "      <td>0.042601</td>\n",
       "    </tr>\n",
       "    <tr>\n",
       "      <th>131</th>\n",
       "      <td>3024</td>\n",
       "      <td>3000</td>\n",
       "      <td>3027</td>\n",
       "      <td>3057</td>\n",
       "      <td>3065</td>\n",
       "      <td>3045</td>\n",
       "      <td>8N3BO2B5UD</td>\n",
       "      <td>-3.741935</td>\n",
       "      <td>0.020087</td>\n",
       "    </tr>\n",
       "  </tbody>\n",
       "</table>\n",
       "</div>"
      ],
      "text/plain": [
       "     (Human, 1)  (Human, 2)  (Human, 3)  (Yeast, 1)  (Yeast, 2)  (Yeast, 3)  \\\n",
       "28         2920        2964        2970        3040        3081        3004   \n",
       "38         2997        2966        3038        2879        2877        2945   \n",
       "52         2962        2961        2919        3069        3074        2999   \n",
       "120        2967        2952        3017        3034        3032        3058   \n",
       "131        3024        3000        3027        3057        3065        3045   \n",
       "\n",
       "      ProteinID         T    pvalue  \n",
       "28   X5AYSQSHAG -3.313513  0.029557  \n",
       "38   NEMOJ29JX3  3.272295  0.030723  \n",
       "52   S8WJ7MGER1 -3.564867  0.023483  \n",
       "120  VVU0NG047S -2.934993  0.042601  \n",
       "131  8N3BO2B5UD -3.741935  0.020087  "
      ]
     },
     "execution_count": 59,
     "metadata": {},
     "output_type": "execute_result"
    }
   ],
   "source": [
    "merged = pd.merge(df, stats[stats['pvalue'] < .05], left_index=True, right_on='ProteinID')\n",
    "merged.head()"
   ]
  },
  {
   "cell_type": "code",
   "execution_count": 60,
   "metadata": {},
   "outputs": [
    {
     "data": {
      "text/plain": [
       "28     2920\n",
       "38     2997\n",
       "52     2962\n",
       "120    2967\n",
       "131    3024\n",
       "Name: (Human, 1), dtype: int64"
      ]
     },
     "execution_count": 60,
     "metadata": {},
     "output_type": "execute_result"
    }
   ],
   "source": [
    "merged[('Human', '1')].head()"
   ]
  },
  {
   "cell_type": "code",
   "execution_count": 61,
   "metadata": {},
   "outputs": [
    {
     "data": {
      "text/plain": [
       "157"
      ]
     },
     "execution_count": 61,
     "metadata": {},
     "output_type": "execute_result"
    }
   ],
   "source": [
    "len(merged)"
   ]
  },
  {
   "cell_type": "code",
   "execution_count": 62,
   "metadata": {},
   "outputs": [
    {
     "data": {
      "text/html": [
       "<div>\n",
       "<style scoped>\n",
       "    .dataframe tbody tr th:only-of-type {\n",
       "        vertical-align: middle;\n",
       "    }\n",
       "\n",
       "    .dataframe tbody tr th {\n",
       "        vertical-align: top;\n",
       "    }\n",
       "\n",
       "    .dataframe thead tr th {\n",
       "        text-align: left;\n",
       "    }\n",
       "\n",
       "    .dataframe thead tr:last-of-type th {\n",
       "        text-align: right;\n",
       "    }\n",
       "</style>\n",
       "<table border=\"1\" class=\"dataframe\">\n",
       "  <thead>\n",
       "    <tr>\n",
       "      <th>Species</th>\n",
       "      <th colspan=\"3\" halign=\"left\">Human</th>\n",
       "      <th colspan=\"3\" halign=\"left\">Yeast</th>\n",
       "    </tr>\n",
       "    <tr>\n",
       "      <th>Rep</th>\n",
       "      <th>1</th>\n",
       "      <th>2</th>\n",
       "      <th>3</th>\n",
       "      <th>1</th>\n",
       "      <th>2</th>\n",
       "      <th>3</th>\n",
       "    </tr>\n",
       "    <tr>\n",
       "      <th>ProteinID</th>\n",
       "      <th></th>\n",
       "      <th></th>\n",
       "      <th></th>\n",
       "      <th></th>\n",
       "      <th></th>\n",
       "      <th></th>\n",
       "    </tr>\n",
       "  </thead>\n",
       "  <tbody>\n",
       "    <tr>\n",
       "      <th>HDXWPLEMPC</th>\n",
       "      <td>2966</td>\n",
       "      <td>3059</td>\n",
       "      <td>3059</td>\n",
       "      <td>2998</td>\n",
       "      <td>3009</td>\n",
       "      <td>3083</td>\n",
       "    </tr>\n",
       "    <tr>\n",
       "      <th>6SUN1O12BY</th>\n",
       "      <td>3062</td>\n",
       "      <td>3003</td>\n",
       "      <td>3037</td>\n",
       "      <td>3002</td>\n",
       "      <td>3029</td>\n",
       "      <td>3054</td>\n",
       "    </tr>\n",
       "    <tr>\n",
       "      <th>6RDX2LK7TT</th>\n",
       "      <td>2936</td>\n",
       "      <td>2975</td>\n",
       "      <td>3043</td>\n",
       "      <td>2985</td>\n",
       "      <td>2955</td>\n",
       "      <td>2928</td>\n",
       "    </tr>\n",
       "    <tr>\n",
       "      <th>JVA4QMGSKP</th>\n",
       "      <td>3028</td>\n",
       "      <td>3026</td>\n",
       "      <td>3074</td>\n",
       "      <td>3098</td>\n",
       "      <td>3026</td>\n",
       "      <td>2994</td>\n",
       "    </tr>\n",
       "    <tr>\n",
       "      <th>SSAS9WGCIZ</th>\n",
       "      <td>3007</td>\n",
       "      <td>2909</td>\n",
       "      <td>2983</td>\n",
       "      <td>3064</td>\n",
       "      <td>3092</td>\n",
       "      <td>2921</td>\n",
       "    </tr>\n",
       "  </tbody>\n",
       "</table>\n",
       "</div>"
      ],
      "text/plain": [
       "Species    Human             Yeast            \n",
       "Rep            1     2     3     1     2     3\n",
       "ProteinID                                     \n",
       "HDXWPLEMPC  2966  3059  3059  2998  3009  3083\n",
       "6SUN1O12BY  3062  3003  3037  3002  3029  3054\n",
       "6RDX2LK7TT  2936  2975  3043  2985  2955  2928\n",
       "JVA4QMGSKP  3028  3026  3074  3098  3026  2994\n",
       "SSAS9WGCIZ  3007  2909  2983  3064  3092  2921"
      ]
     },
     "execution_count": 62,
     "metadata": {},
     "output_type": "execute_result"
    }
   ],
   "source": [
    "df.head()"
   ]
  },
  {
   "cell_type": "code",
   "execution_count": 74,
   "metadata": {},
   "outputs": [],
   "source": [
    "import numpy as np"
   ]
  },
  {
   "cell_type": "code",
   "execution_count": 81,
   "metadata": {},
   "outputs": [
    {
     "data": {
      "text/plain": [
       "array([1, 2, 3, 1, 2, 3])"
      ]
     },
     "execution_count": 81,
     "metadata": {},
     "output_type": "execute_result"
    }
   ],
   "source": [
    "np.tile([1, 2, 3], 2)"
   ]
  },
  {
   "cell_type": "code",
   "execution_count": 86,
   "metadata": {},
   "outputs": [
    {
     "data": {
      "text/html": [
       "<div>\n",
       "<style scoped>\n",
       "    .dataframe tbody tr th:only-of-type {\n",
       "        vertical-align: middle;\n",
       "    }\n",
       "\n",
       "    .dataframe tbody tr th {\n",
       "        vertical-align: top;\n",
       "    }\n",
       "\n",
       "    .dataframe thead th {\n",
       "        text-align: right;\n",
       "    }\n",
       "</style>\n",
       "<table border=\"1\" class=\"dataframe\">\n",
       "  <thead>\n",
       "    <tr style=\"text-align: right;\">\n",
       "      <th></th>\n",
       "      <th>a</th>\n",
       "      <th>b</th>\n",
       "    </tr>\n",
       "  </thead>\n",
       "  <tbody>\n",
       "    <tr>\n",
       "      <th>0</th>\n",
       "      <td>a</td>\n",
       "      <td>aa</td>\n",
       "    </tr>\n",
       "    <tr>\n",
       "      <th>1</th>\n",
       "      <td>b</td>\n",
       "      <td>bb</td>\n",
       "    </tr>\n",
       "  </tbody>\n",
       "</table>\n",
       "</div>"
      ],
      "text/plain": [
       "   a   b\n",
       "0  a  aa\n",
       "1  b  bb"
      ]
     },
     "execution_count": 86,
     "metadata": {},
     "output_type": "execute_result"
    }
   ],
   "source": [
    "dd"
   ]
  },
  {
   "cell_type": "code",
   "execution_count": 89,
   "metadata": {},
   "outputs": [
    {
     "data": {
      "text/html": [
       "<div>\n",
       "<style scoped>\n",
       "    .dataframe tbody tr th:only-of-type {\n",
       "        vertical-align: middle;\n",
       "    }\n",
       "\n",
       "    .dataframe tbody tr th {\n",
       "        vertical-align: top;\n",
       "    }\n",
       "\n",
       "    .dataframe thead th {\n",
       "        text-align: right;\n",
       "    }\n",
       "</style>\n",
       "<table border=\"1\" class=\"dataframe\">\n",
       "  <thead>\n",
       "    <tr style=\"text-align: right;\">\n",
       "      <th></th>\n",
       "      <th>variable</th>\n",
       "      <th>intensity</th>\n",
       "      <th>index</th>\n",
       "    </tr>\n",
       "  </thead>\n",
       "  <tbody>\n",
       "    <tr>\n",
       "      <th>0</th>\n",
       "      <td>a</td>\n",
       "      <td>a</td>\n",
       "      <td>0</td>\n",
       "    </tr>\n",
       "    <tr>\n",
       "      <th>1</th>\n",
       "      <td>a</td>\n",
       "      <td>b</td>\n",
       "      <td>1</td>\n",
       "    </tr>\n",
       "    <tr>\n",
       "      <th>2</th>\n",
       "      <td>b</td>\n",
       "      <td>aa</td>\n",
       "      <td>0</td>\n",
       "    </tr>\n",
       "    <tr>\n",
       "      <th>3</th>\n",
       "      <td>b</td>\n",
       "      <td>bb</td>\n",
       "      <td>1</td>\n",
       "    </tr>\n",
       "  </tbody>\n",
       "</table>\n",
       "</div>"
      ],
      "text/plain": [
       "  variable intensity  index\n",
       "0        a         a      0\n",
       "1        a         b      1\n",
       "2        b        aa      0\n",
       "3        b        bb      1"
      ]
     },
     "execution_count": 89,
     "metadata": {},
     "output_type": "execute_result"
    }
   ],
   "source": [
    "dd = pd.DataFrame()\n",
    "dd['a'] = ['a', 'b']\n",
    "dd['b'] = ['aa', 'bb']\n",
    "ddl = pd.melt(dd, value_vars=['a', 'b'], value_name='intensity')\n",
    "ddl['index'] = np.tile(dd.index, dd.shape[1])\n",
    "ddl"
   ]
  },
  {
   "cell_type": "code",
   "execution_count": 79,
   "metadata": {},
   "outputs": [
    {
     "data": {
      "text/html": [
       "<div>\n",
       "<style scoped>\n",
       "    .dataframe tbody tr th:only-of-type {\n",
       "        vertical-align: middle;\n",
       "    }\n",
       "\n",
       "    .dataframe tbody tr th {\n",
       "        vertical-align: top;\n",
       "    }\n",
       "\n",
       "    .dataframe thead th {\n",
       "        text-align: right;\n",
       "    }\n",
       "</style>\n",
       "<table border=\"1\" class=\"dataframe\">\n",
       "  <thead>\n",
       "    <tr style=\"text-align: right;\">\n",
       "      <th></th>\n",
       "      <th>Species</th>\n",
       "      <th>Rep</th>\n",
       "      <th>Intensity</th>\n",
       "    </tr>\n",
       "  </thead>\n",
       "  <tbody>\n",
       "    <tr>\n",
       "      <th>0</th>\n",
       "      <td>Human</td>\n",
       "      <td>1</td>\n",
       "      <td>2966</td>\n",
       "    </tr>\n",
       "    <tr>\n",
       "      <th>1</th>\n",
       "      <td>Human</td>\n",
       "      <td>1</td>\n",
       "      <td>3062</td>\n",
       "    </tr>\n",
       "    <tr>\n",
       "      <th>2</th>\n",
       "      <td>Human</td>\n",
       "      <td>1</td>\n",
       "      <td>2936</td>\n",
       "    </tr>\n",
       "    <tr>\n",
       "      <th>3</th>\n",
       "      <td>Human</td>\n",
       "      <td>1</td>\n",
       "      <td>3028</td>\n",
       "    </tr>\n",
       "    <tr>\n",
       "      <th>4</th>\n",
       "      <td>Human</td>\n",
       "      <td>1</td>\n",
       "      <td>3007</td>\n",
       "    </tr>\n",
       "  </tbody>\n",
       "</table>\n",
       "</div>"
      ],
      "text/plain": [
       "  Species Rep  Intensity\n",
       "0   Human   1       2966\n",
       "1   Human   1       3062\n",
       "2   Human   1       2936\n",
       "3   Human   1       3028\n",
       "4   Human   1       3007"
      ]
     },
     "execution_count": 79,
     "metadata": {},
     "output_type": "execute_result"
    }
   ],
   "source": [
    "dfl = pd.melt(df, value_name='Intensity')\n",
    "# dfl['ProteinID'] = np.tile(df.index.get_values(), df.shape[1])\n",
    "dfl.head()"
   ]
  },
  {
   "cell_type": "code",
   "execution_count": 69,
   "metadata": {},
   "outputs": [
    {
     "data": {
      "text/plain": [
       "<seaborn.axisgrid.FacetGrid at 0x7f21e3e299e8>"
      ]
     },
     "execution_count": 69,
     "metadata": {},
     "output_type": "execute_result"
    },
    {
     "data": {
      "image/png": "[encoded data removed]",
      "text/plain": [
       "<Figure size 402.375x360 with 1 Axes>"
      ]
     },
     "metadata": {},
     "output_type": "display_data"
    }
   ],
   "source": [
    "import seaborn as sns\n",
    "sns.catplot(x='Species', y='value', hue='Rep', data=dfl, kind='point')"
   ]
  },
  {
   "cell_type": "code",
   "execution_count": null,
   "metadata": {},
   "outputs": [],
   "source": []
  }
 ],
 "metadata": {
  "kernelspec": {
   "display_name": "Python 3",
   "language": "python",
   "name": "python3"
  },
  "language_info": {
   "codemirror_mode": {
    "name": "ipython",
    "version": 3
   },
   "file_extension": ".py",
   "mimetype": "text/x-python",
   "name": "python",
   "nbconvert_exporter": "python",
   "pygments_lexer": "ipython3",
   "version": "3.6.5"
  }
 },
 "nbformat": 4,
 "nbformat_minor": 2
}
